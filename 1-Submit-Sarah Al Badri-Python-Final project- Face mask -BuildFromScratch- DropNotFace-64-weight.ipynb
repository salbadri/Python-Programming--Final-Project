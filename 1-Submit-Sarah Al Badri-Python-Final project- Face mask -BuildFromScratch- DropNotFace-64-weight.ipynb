{
 "cells": [
  {
   "cell_type": "code",
   "execution_count": 45,
   "id": "passing-sperm",
   "metadata": {},
   "outputs": [],
   "source": [
    "import pandas as pd\n",
    "import numpy as np\n",
    "\n",
    "import cv2\n",
    "import matplotlib.pyplot as plt\n",
    "import os\n",
    "\n",
    "from tensorflow.keras.preprocessing.image import ImageDataGenerator \n",
    "from keras.utils.np_utils import to_categorical\n",
    "\n",
    "from PIL import Image\n",
    "from pathlib import Path\n",
    "import imagesize\n",
    "import random\n",
    "\n",
    "\n",
    "import pickle\n",
    "\n",
    "import keras \n",
    "from keras.models import Sequential\n",
    "from keras.layers import Dense, Dropout, Flatten, Conv2D, MaxPooling2D, BatchNormalization\n",
    "from pathlib import Path\n",
    "\n",
    "from keras.preprocessing import image\n",
    "\n",
    "from keras.models import model_from_json\n",
    "\n",
    "from sklearn.metrics import classification_report, confusion_matrix\n",
    "\n"
   ]
  },
  {
   "cell_type": "code",
   "execution_count": 46,
   "id": "chemical-aerospace",
   "metadata": {},
   "outputs": [],
   "source": [
    "# to fix dead kernel issue when fitting my model\n",
    "os.environ['KMP_DUPLICATE_LIB_OK']='True'"
   ]
  },
  {
   "cell_type": "markdown",
   "id": "perceived-northwest",
   "metadata": {},
   "source": [
    "# <font color=Brown> Data Preprocessing\n",
    "Reading in image data adapted from sentdex\n",
    "https://www.youtube.com/watch?v=j-3vuBynnOE"
   ]
  },
  {
   "cell_type": "code",
   "execution_count": 47,
   "id": "trying-equilibrium",
   "metadata": {},
   "outputs": [],
   "source": [
    "#  directory to my data\n",
    "DataDir_train= \"/Users/sarahalbadri/Desktop/Face Mask Usage/partinioned data/train\"\n",
    "# classes\n",
    "categories= ['fully_covered', 'not_covered', 'partially_covered']"
   ]
  },
  {
   "cell_type": "code",
   "execution_count": 48,
   "id": "radio-decade",
   "metadata": {},
   "outputs": [],
   "source": [
    "# iterate through all images in \n",
    "# images already in grayscale\n",
    "for cat in categories:\n",
    "    path = os.path.join(DataDir_train, cat)# path to dir:'fully_covered', 'not_covered', 'partially_covered'\n",
    "    for img in os.listdir(path):\n",
    "        img_array= cv2.imread(os.path.join(path, img), cv2.IMREAD_GRAYSCALE)# covert images to array-gray scale"
   ]
  },
  {
   "cell_type": "code",
   "execution_count": 49,
   "id": "physical-favor",
   "metadata": {
    "scrolled": false
   },
   "outputs": [
    {
     "name": "stdout",
     "output_type": "stream",
     "text": [
      "[[151 150 152 ... 151 148 151]\n",
      " [149 124  91 ...  30  37  65]\n",
      " [150 108  71 ...  24  29  68]\n",
      " ...\n",
      " [152  51  48 ...  46  47  75]\n",
      " [146  52  48 ...  48  46  72]\n",
      " [152  73  80 ...  74  70  94]]\n"
     ]
    }
   ],
   "source": [
    "# lets check my data after I converted to array\n",
    "print(img_array)"
   ]
  },
  {
   "cell_type": "markdown",
   "id": "furnished-failing",
   "metadata": {},
   "source": [
    "# <font color = red>Lets unify the shape of the images.</font>\n",
    "### <font color = brown> Image size is crucial for CNN performance. I tried different sizes and 64 * 64 yielded the best performance \n",
    "## Check image shape\n",
    "## resize to the dsired shape"
   ]
  },
  {
   "cell_type": "code",
   "execution_count": 50,
   "id": "precious-latitude",
   "metadata": {},
   "outputs": [
    {
     "data": {
      "text/plain": [
       "(64, 64)"
      ]
     },
     "execution_count": 50,
     "metadata": {},
     "output_type": "execute_result"
    }
   ],
   "source": [
    "img_array.shape"
   ]
  },
  {
   "cell_type": "code",
   "execution_count": 51,
   "id": "outer-darkness",
   "metadata": {},
   "outputs": [
    {
     "data": {
      "image/png": "[encoded data removed]",
      "text/plain": [
       "<Figure size 432x288 with 1 Axes>"
      ]
     },
     "metadata": {
      "needs_background": "light"
     },
     "output_type": "display_data"
    }
   ],
   "source": [
    "# for resizing img\n",
    "#  using same image size 64*64- tried multiple sizes \n",
    "IMG_SIZE = 64\n",
    "new_array =cv2.resize(img_array, (IMG_SIZE, IMG_SIZE))\n",
    "plt.imshow(new_array)\n",
    "plt.show()\n",
    "                      "
   ]
  },
  {
   "cell_type": "markdown",
   "id": "unsigned-shore",
   "metadata": {},
   "source": [
    "# Training set"
   ]
  },
  {
   "cell_type": "code",
   "execution_count": 52,
   "id": "macro-juice",
   "metadata": {},
   "outputs": [],
   "source": [
    "training_data=[]\n",
    "\n",
    "def create_training_data():\n",
    "    for cat in categories:\n",
    "        path = os.path.join(DataDir_train, cat)\n",
    "        class_num= categories.index(cat) # map class to  numeric value\n",
    "        for img in os.listdir(path):\n",
    "            img_array= cv2.imread(os.path.join(path, img), cv2.IMREAD_GRAYSCALE)# covert images to array-gray scale\n",
    "            new_array =cv2.resize(img_array, (IMG_SIZE, IMG_SIZE))\n",
    "            training_data.append([new_array, class_num])\n",
    "            \n",
    "create_training_data()"
   ]
  },
  {
   "cell_type": "code",
   "execution_count": 53,
   "id": "sweet-memorabilia",
   "metadata": {},
   "outputs": [
    {
     "name": "stdout",
     "output_type": "stream",
     "text": [
      "3853\n"
     ]
    }
   ],
   "source": [
    "print(len(training_data))"
   ]
  },
  {
   "cell_type": "code",
   "execution_count": 54,
   "id": "wrapped-champion",
   "metadata": {},
   "outputs": [],
   "source": [
    "# shuffle data to prevent overfitting- shuffleing reduce variance\n",
    "random.shuffle(training_data)"
   ]
  },
  {
   "cell_type": "code",
   "execution_count": 55,
   "id": "intermediate-warehouse",
   "metadata": {},
   "outputs": [],
   "source": [
    "#create features and labels\n",
    "x_train=[]# features set\n",
    "y_train=[] # labels \n"
   ]
  },
  {
   "cell_type": "code",
   "execution_count": 56,
   "id": "indonesian-cabin",
   "metadata": {},
   "outputs": [],
   "source": [
    "for features, label in training_data:\n",
    "    x_train.append(features)\n",
    "    y_train.append(label)\n",
    "x_train = np.array(x_train).reshape(-1,IMG_SIZE,IMG_SIZE,1)"
   ]
  },
  {
   "cell_type": "code",
   "execution_count": 57,
   "id": "unlikely-provider",
   "metadata": {},
   "outputs": [],
   "source": [
    "\n",
    "pickle_out= open(\"x_train_64CNN_NoFace.pickle\", \"wb\")\n",
    "pickle.dump(x_train, pickle_out)\n",
    "pickle_out.close()\n",
    "\n",
    "\n",
    "pickle_out= open(\"y_train_64CNN_NoFace.pickle\", \"wb\")\n",
    "pickle.dump(y_train, pickle_out)\n",
    "pickle_out.close()"
   ]
  },
  {
   "cell_type": "code",
   "execution_count": 58,
   "id": "exotic-archives",
   "metadata": {},
   "outputs": [],
   "source": [
    "pickle_in= open(\"x_train_64CNN_NoFace.pickle\", \"rb\")\n",
    "x_train = pickle.load(pickle_in)"
   ]
  },
  {
   "cell_type": "code",
   "execution_count": 59,
   "id": "polar-lighting",
   "metadata": {},
   "outputs": [],
   "source": [
    "pickle_in= open(\"y_train_64CNN_NoFace.pickle\", \"rb\")\n",
    "y_train = pickle.load(pickle_in)"
   ]
  },
  {
   "cell_type": "markdown",
   "id": "preceding-brand",
   "metadata": {},
   "source": [
    "# Validation set"
   ]
  },
  {
   "cell_type": "code",
   "execution_count": 60,
   "id": "stainless-improvement",
   "metadata": {},
   "outputs": [],
   "source": [
    "DataDir_val= \"/Users/sarahalbadri/Desktop/Face Mask Usage/partinioned data/val\"\n",
    "categories= ['fully_covered', 'not_covered', 'partially_covered']"
   ]
  },
  {
   "cell_type": "code",
   "execution_count": 61,
   "id": "interesting-poker",
   "metadata": {},
   "outputs": [],
   "source": [
    "for cat in categories:\n",
    "    path = os.path.join(DataDir_val, cat)\n",
    "    for img in os.listdir(path):\n",
    "        img_array= cv2.imread(os.path.join(path, img), cv2.IMREAD_GRAYSCALE)# covert images to array-gray scale"
   ]
  },
  {
   "cell_type": "code",
   "execution_count": 62,
   "id": "chemical-ranch",
   "metadata": {},
   "outputs": [
    {
     "data": {
      "image/png": "[encoded data removed]",
      "text/plain": [
       "<Figure size 432x288 with 1 Axes>"
      ]
     },
     "metadata": {
      "needs_background": "light"
     },
     "output_type": "display_data"
    }
   ],
   "source": [
    "# resize\n",
    "IMG_SIZE = 64\n",
    "new_array =cv2.resize(img_array, (IMG_SIZE, IMG_SIZE))\n",
    "plt.imshow(new_array)\n",
    "plt.show()"
   ]
  },
  {
   "cell_type": "code",
   "execution_count": 63,
   "id": "unlike-garlic",
   "metadata": {},
   "outputs": [],
   "source": [
    "validation_data=[]\n",
    "\n",
    "def create_validation_data():\n",
    "    for cat in categories:\n",
    "        path = os.path.join(DataDir_val, cat)\n",
    "        class_num= categories.index(cat)\n",
    "        for img in os.listdir(path):\n",
    "            img_array= cv2.imread(os.path.join(path, img), cv2.IMREAD_GRAYSCALE)# covert images to array-gray scale\n",
    "            new_array =cv2.resize(img_array, (IMG_SIZE, IMG_SIZE))\n",
    "            validation_data.append([new_array, class_num])\n",
    "            \n",
    "create_validation_data()"
   ]
  },
  {
   "cell_type": "code",
   "execution_count": 64,
   "id": "arbitrary-hardwood",
   "metadata": {},
   "outputs": [
    {
     "name": "stdout",
     "output_type": "stream",
     "text": [
      "1100\n"
     ]
    }
   ],
   "source": [
    "print(len(validation_data))"
   ]
  },
  {
   "cell_type": "code",
   "execution_count": 65,
   "id": "swedish-scenario",
   "metadata": {},
   "outputs": [],
   "source": [
    "random.shuffle(validation_data)"
   ]
  },
  {
   "cell_type": "code",
   "execution_count": 66,
   "id": "associate-retrieval",
   "metadata": {},
   "outputs": [],
   "source": [
    "x_val=[]\n",
    "y_val=[]\n",
    "\n"
   ]
  },
  {
   "cell_type": "code",
   "execution_count": 67,
   "id": "published-passage",
   "metadata": {},
   "outputs": [],
   "source": [
    "for features, label in validation_data:\n",
    "    x_val.append(features)\n",
    "    y_val.append(label)\n",
    "x_val = np.array(x_val).reshape(-1,IMG_SIZE,IMG_SIZE,1)"
   ]
  },
  {
   "cell_type": "code",
   "execution_count": 68,
   "id": "perfect-smith",
   "metadata": {},
   "outputs": [],
   "source": [
    "\n",
    "pickle_out= open(\"x_val_64CNN_NoFace.pickle\", \"wb\")\n",
    "pickle.dump(x_val, pickle_out)\n",
    "pickle_out.close()\n",
    "\n",
    "\n",
    "pickle_out= open(\"y_val_64CNN_NoFace.pickle\", \"wb\")\n",
    "pickle.dump(y_val, pickle_out)\n",
    "pickle_out.close()"
   ]
  },
  {
   "cell_type": "code",
   "execution_count": 69,
   "id": "turned-bulletin",
   "metadata": {},
   "outputs": [],
   "source": [
    "pickle_in= open(\"x_val_64CNN_NoFace.pickle\", \"rb\")\n",
    "x_val = pickle.load(pickle_in)"
   ]
  },
  {
   "cell_type": "code",
   "execution_count": 70,
   "id": "starting-divorce",
   "metadata": {},
   "outputs": [],
   "source": [
    "pickle_in= open(\"y_val_64CNN_NoFace.pickle\", \"rb\")\n",
    "y_val = pickle.load(pickle_in)"
   ]
  },
  {
   "cell_type": "code",
   "execution_count": 71,
   "id": "accompanied-billy",
   "metadata": {},
   "outputs": [],
   "source": [
    "DataDir_test= \"/Users/sarahalbadri/Desktop/Face Mask Usage/partinioned data/test\"\n",
    "categories= ['fully_covered', 'not_covered', 'partially_covered']"
   ]
  },
  {
   "cell_type": "markdown",
   "id": "robust-negative",
   "metadata": {},
   "source": [
    "# Test set"
   ]
  },
  {
   "cell_type": "code",
   "execution_count": 72,
   "id": "marked-covering",
   "metadata": {},
   "outputs": [],
   "source": [
    "for cat in categories:\n",
    "    path = os.path.join(DataDir_test, cat)\n",
    "    for img in os.listdir(path):\n",
    "        img_array= cv2.imread(os.path.join(path, img), cv2.IMREAD_GRAYSCALE)# covert images to array-gray scale\n",
    "        "
   ]
  },
  {
   "cell_type": "code",
   "execution_count": 73,
   "id": "oriental-swedish",
   "metadata": {},
   "outputs": [
    {
     "data": {
      "image/png": "[encoded data removed]",
      "text/plain": [
       "<Figure size 432x288 with 1 Axes>"
      ]
     },
     "metadata": {
      "needs_background": "light"
     },
     "output_type": "display_data"
    }
   ],
   "source": [
    "# resize\n",
    "IMG_SIZE = 64\n",
    "new_array =cv2.resize(img_array, (IMG_SIZE, IMG_SIZE))\n",
    "plt.imshow(new_array)\n",
    "plt.show()"
   ]
  },
  {
   "cell_type": "code",
   "execution_count": 74,
   "id": "split-wonder",
   "metadata": {},
   "outputs": [],
   "source": [
    "test_data=[]\n",
    "\n",
    "def create_test_data():\n",
    "    for cat in categories:\n",
    "        path = os.path.join(DataDir_test, cat)\n",
    "        class_num= categories.index(cat)\n",
    "        for img in os.listdir(path):\n",
    "            img_array= cv2.imread(os.path.join(path, img), cv2.IMREAD_GRAYSCALE)# covert images to array-gray scale\n",
    "            new_array =cv2.resize(img_array, (IMG_SIZE, IMG_SIZE))\n",
    "            test_data.append([new_array, class_num])\n",
    "            \n",
    "create_test_data()"
   ]
  },
  {
   "cell_type": "code",
   "execution_count": 75,
   "id": "secure-extreme",
   "metadata": {},
   "outputs": [
    {
     "name": "stdout",
     "output_type": "stream",
     "text": [
      "554\n"
     ]
    }
   ],
   "source": [
    "print(len(test_data))"
   ]
  },
  {
   "cell_type": "code",
   "execution_count": 76,
   "id": "happy-february",
   "metadata": {},
   "outputs": [],
   "source": [
    "random.shuffle(test_data)"
   ]
  },
  {
   "cell_type": "code",
   "execution_count": 77,
   "id": "packed-florence",
   "metadata": {},
   "outputs": [],
   "source": [
    "x_test=[]\n",
    "y_test=[]\n",
    "\n"
   ]
  },
  {
   "cell_type": "code",
   "execution_count": 78,
   "id": "ongoing-setup",
   "metadata": {},
   "outputs": [],
   "source": [
    "for features, label in test_data:\n",
    "    x_test.append(features)\n",
    "    y_test.append(label)\n",
    "x_test = np.array(x_test).reshape(-1,IMG_SIZE,IMG_SIZE,1)# img size assigned earlier, and the 1 at the end bc we have gray scal images"
   ]
  },
  {
   "cell_type": "code",
   "execution_count": 79,
   "id": "hydraulic-exclusive",
   "metadata": {},
   "outputs": [],
   "source": [
    "\n",
    "pickle_out= open(\"x_test_64CNN_NoFace.pickle\", \"wb\")\n",
    "pickle.dump(x_test, pickle_out)\n",
    "pickle_out.close()\n",
    "\n",
    "\n",
    "pickle_out= open(\"y_test_64CNN_NoFace.pickle\", \"wb\")\n",
    "pickle.dump(y_test, pickle_out)\n",
    "pickle_out.close()"
   ]
  },
  {
   "cell_type": "code",
   "execution_count": 80,
   "id": "greater-microwave",
   "metadata": {},
   "outputs": [],
   "source": [
    "pickle_in= open(\"x_test_64CNN_NoFace.pickle\", \"rb\")\n",
    "x_test = pickle.load(pickle_in)"
   ]
  },
  {
   "cell_type": "code",
   "execution_count": 81,
   "id": "figured-institution",
   "metadata": {},
   "outputs": [],
   "source": [
    "pickle_in= open(\"y_test_64CNN_NoFace.pickle\", \"rb\")\n",
    "y_test = pickle.load(pickle_in)"
   ]
  },
  {
   "cell_type": "code",
   "execution_count": 82,
   "id": "italian-techno",
   "metadata": {},
   "outputs": [],
   "source": [
    "# Lets Normalize data set to 0-to1 range\n",
    "x_train = x_train.astype(\"float32\") \n",
    "x_test = x_test.astype(\"float32\") \n",
    "x_val = x_val.astype(\"float32\") \n",
    "\n",
    "x_train = x_train/255\n",
    "x_test = x_test/255\n",
    "x_val = x_val/255"
   ]
  },
  {
   "cell_type": "code",
   "execution_count": 83,
   "id": "former-korean",
   "metadata": {},
   "outputs": [],
   "source": [
    "# Converts a class vector to binary class matrix.\n",
    "# labels are single values from 0 to 2, want to make each label an array with element set to 1 and and the rest set to 0.\n",
    "\n",
    "y_train = keras.utils.to_categorical(y_train, 3)\n",
    "y_test = keras.utils.to_categorical(y_test,3)\n",
    "y_val = keras.utils.to_categorical(y_val,3)"
   ]
  },
  {
   "cell_type": "code",
   "execution_count": 84,
   "id": "brave-checklist",
   "metadata": {},
   "outputs": [],
   "source": [
    "# lets build the model \n",
    "model = Sequential()\n",
    "# add 2d convolutional layers as I am working with images\n",
    "# first parameter: num of filters in layers(will use 32)each filter can detect one pattern in image \n",
    "#second paramter: window size we use when we create image tiles from each image (will use 3 *3 )\n",
    "model.add(Conv2D(32, (3, 3), padding= \"same\", activation =\"relu\", input_shape=(64,64,1)))# add padding to prevent losing info from pixles on the edges of the image\n",
    "model.add(Conv2D(32, (3, 3), activation =\"relu\"))# add padding to prevent losing info from pixles on the edges of the image\n",
    "# use maxpooling to scale down the convolutional layers by keeping the largest values and throw away the smaller ones( it keeps the most usueful data) \n",
    "model.add(MaxPooling2D(pool_size=(2,2)))# used 2 pix * 2 pix pool size\n",
    "# dropout: to prevent neural network from memorizing. NN tend to memorize instead of learning. by adding dropout we randomly throw away some of the data by cutting connection btw layers\n",
    "model.add(Dropout(0.25))# pass percentage of neural network that you want to drop\n",
    "# lets add 2 more layers with 64 filters to each\n",
    "model.add(Conv2D(64, (3, 3), padding= \"same\", activation =\"relu\"))# add padding to prevent losing info from pixles on the edges of the image\n",
    "model.add(Conv2D(64, (3, 3), activation =\"relu\"))\n",
    "model.add(MaxPooling2D(pool_size=(2,2)))\n",
    "model.add(Dropout(0.25))\n",
    "# add flatten layer before transitioning to dense layer to tell keras that we no longer working with 2d data\n",
    "model.add(Flatten())\n",
    "model.add(Dense(512, activation=\"relu\"))\n",
    "model.add(Dropout(0.50))# this makes the neural network work harder to get the correct answer\n",
    "model.add(Dense(3, activation=\"softmax\"))"
   ]
  },
  {
   "cell_type": "code",
   "execution_count": 85,
   "id": "harmful-manchester",
   "metadata": {},
   "outputs": [
    {
     "name": "stdout",
     "output_type": "stream",
     "text": [
      "Model: \"sequential_2\"\n",
      "_________________________________________________________________\n",
      "Layer (type)                 Output Shape              Param #   \n",
      "=================================================================\n",
      "conv2d_5 (Conv2D)            (None, 64, 64, 32)        320       \n",
      "_________________________________________________________________\n",
      "conv2d_6 (Conv2D)            (None, 62, 62, 32)        9248      \n",
      "_________________________________________________________________\n",
      "max_pooling2d_3 (MaxPooling2 (None, 31, 31, 32)        0         \n",
      "_________________________________________________________________\n",
      "dropout_4 (Dropout)          (None, 31, 31, 32)        0         \n",
      "_________________________________________________________________\n",
      "conv2d_7 (Conv2D)            (None, 31, 31, 64)        18496     \n",
      "_________________________________________________________________\n",
      "conv2d_8 (Conv2D)            (None, 29, 29, 64)        36928     \n",
      "_________________________________________________________________\n",
      "max_pooling2d_4 (MaxPooling2 (None, 14, 14, 64)        0         \n",
      "_________________________________________________________________\n",
      "dropout_5 (Dropout)          (None, 14, 14, 64)        0         \n",
      "_________________________________________________________________\n",
      "flatten_2 (Flatten)          (None, 12544)             0         \n",
      "_________________________________________________________________\n",
      "dense_3 (Dense)              (None, 512)               6423040   \n",
      "_________________________________________________________________\n",
      "dropout_6 (Dropout)          (None, 512)               0         \n",
      "_________________________________________________________________\n",
      "dense_4 (Dense)              (None, 3)                 1539      \n",
      "=================================================================\n",
      "Total params: 6,489,571\n",
      "Trainable params: 6,489,571\n",
      "Non-trainable params: 0\n",
      "_________________________________________________________________\n"
     ]
    }
   ],
   "source": [
    "model.summary()"
   ]
  },
  {
   "cell_type": "code",
   "execution_count": 86,
   "id": "attempted-apple",
   "metadata": {},
   "outputs": [],
   "source": [
    "# lets compile the neural network\n",
    "model.compile(\n",
    "    loss= \"categorical_crossentropy\",\n",
    "    optimizer= \"adam\",\n",
    "    metrics=[\"accuracy\"]\n",
    "    \n",
    ")"
   ]
  },
  {
   "cell_type": "code",
   "execution_count": 87,
   "id": "wound-circumstances",
   "metadata": {},
   "outputs": [],
   "source": [
    "import tensorflow as tf\n",
    "# create callback to stop training early to prevent overfitting\n",
    "stop_early = tf.keras.callbacks.EarlyStopping(monitor='val_loss', patience=5)"
   ]
  },
  {
   "cell_type": "code",
   "execution_count": 88,
   "id": "ranging-locking",
   "metadata": {
    "scrolled": false
   },
   "outputs": [
    {
     "name": "stdout",
     "output_type": "stream",
     "text": [
      "Train on 3853 samples, validate on 1100 samples\n",
      "Epoch 1/50\n",
      "3853/3853 [==============================] - 38s 10ms/step - loss: 0.1688 - accuracy: 0.7843 - val_loss: 0.2256 - val_accuracy: 0.9291\n",
      "Epoch 2/50\n",
      "3853/3853 [==============================] - 35s 9ms/step - loss: 0.0665 - accuracy: 0.9291 - val_loss: 0.1171 - val_accuracy: 0.9582\n",
      "Epoch 3/50\n",
      "3853/3853 [==============================] - 35s 9ms/step - loss: 0.0397 - accuracy: 0.9598 - val_loss: 0.0927 - val_accuracy: 0.9673\n",
      "Epoch 4/50\n",
      "3853/3853 [==============================] - 35s 9ms/step - loss: 0.0296 - accuracy: 0.9709 - val_loss: 0.0698 - val_accuracy: 0.9764\n",
      "Epoch 5/50\n",
      "3853/3853 [==============================] - 35s 9ms/step - loss: 0.0185 - accuracy: 0.9800 - val_loss: 0.0744 - val_accuracy: 0.9773\n",
      "Epoch 6/50\n",
      "3853/3853 [==============================] - 35s 9ms/step - loss: 0.0203 - accuracy: 0.9790 - val_loss: 0.0612 - val_accuracy: 0.9755\n",
      "Epoch 7/50\n",
      "3853/3853 [==============================] - 35s 9ms/step - loss: 0.0130 - accuracy: 0.9865 - val_loss: 0.0667 - val_accuracy: 0.9791\n",
      "Epoch 8/50\n",
      "3853/3853 [==============================] - 35s 9ms/step - loss: 0.0099 - accuracy: 0.9901 - val_loss: 0.0603 - val_accuracy: 0.9827\n",
      "Epoch 9/50\n",
      "3853/3853 [==============================] - 35s 9ms/step - loss: 0.0086 - accuracy: 0.9922 - val_loss: 0.0615 - val_accuracy: 0.9827\n",
      "Epoch 10/50\n",
      "3853/3853 [==============================] - 35s 9ms/step - loss: 0.0097 - accuracy: 0.9907 - val_loss: 0.0607 - val_accuracy: 0.9855\n",
      "Epoch 11/50\n",
      "3853/3853 [==============================] - 35s 9ms/step - loss: 0.0075 - accuracy: 0.9935 - val_loss: 0.0566 - val_accuracy: 0.9855\n",
      "Epoch 12/50\n",
      "3853/3853 [==============================] - 35s 9ms/step - loss: 0.0099 - accuracy: 0.9907 - val_loss: 0.1078 - val_accuracy: 0.9682\n",
      "Epoch 13/50\n",
      "3853/3853 [==============================] - 37s 10ms/step - loss: 0.0107 - accuracy: 0.9875 - val_loss: 0.0924 - val_accuracy: 0.9736\n",
      "Epoch 14/50\n",
      "3853/3853 [==============================] - 35s 9ms/step - loss: 0.0059 - accuracy: 0.9948 - val_loss: 0.0904 - val_accuracy: 0.9755\n",
      "Epoch 15/50\n",
      "3853/3853 [==============================] - 34s 9ms/step - loss: 0.0035 - accuracy: 0.9961 - val_loss: 0.0780 - val_accuracy: 0.9809\n",
      "Epoch 16/50\n",
      "3853/3853 [==============================] - 35s 9ms/step - loss: 0.0046 - accuracy: 0.9953 - val_loss: 0.0725 - val_accuracy: 0.9855\n"
     ]
    }
   ],
   "source": [
    "# lets train the model\n",
    "class_weights = {\n",
    "    0:\"0.35\", # 'fully_covered'\n",
    "    1:\"0.3\", #'not_covered'\n",
    "    2:\"0.35\" #'partially_covered'\n",
    "}\n",
    "history= model.fit(x_train,\n",
    "                   y_train,\n",
    "                   batch_size= 32,\n",
    "                   epochs= 50,\n",
    "                   validation_data= (x_val, y_val),\n",
    "                   class_weight= class_weights,\n",
    "                   callbacks=[stop_early])"
   ]
  },
  {
   "cell_type": "code",
   "execution_count": 89,
   "id": "satisfied-crowd",
   "metadata": {},
   "outputs": [
    {
     "data": {
      "image/png": "[encoded data removed]",
      "text/plain": [
       "<Figure size 432x288 with 1 Axes>"
      ]
     },
     "metadata": {
      "needs_background": "light"
     },
     "output_type": "display_data"
    }
   ],
   "source": [
    "# lets visualize our training and validation accuracy\n",
    "epochs= range(16)\n",
    "train_acc= history.history['accuracy']\n",
    "val_acc= history.history['val_accuracy']\n",
    "plt.plot(epochs,train_acc, 'b-', label='Training Accuracy' )\n",
    "plt.plot(epochs, val_acc, 'r-', label='Validation Accuracy')\n",
    "plt.xlabel= ('Epochs')\n",
    "plt.ylabel= ('Accuracy')\n",
    "plt.legend()\n",
    "plt.show()\n"
   ]
  },
  {
   "cell_type": "code",
   "execution_count": 90,
   "id": "younger-central",
   "metadata": {},
   "outputs": [
    {
     "data": {
      "image/png": "[encoded data removed]",
      "text/plain": [
       "<Figure size 432x288 with 1 Axes>"
      ]
     },
     "metadata": {
      "needs_background": "light"
     },
     "output_type": "display_data"
    }
   ],
   "source": [
    "# visulaize training and validation loss\n",
    "epochs= range(16)\n",
    "train_loss= history.history['loss']\n",
    "val_loss= history.history['val_loss']\n",
    "plt.plot(epochs, train_loss, 'r-', label='Training Loss')\n",
    "plt.plot(epochs, val_loss, 'b-', label='Validation loss')\n",
    "plt.xlabel=('Epochs')\n",
    "plt.ylabel=('Loss')\n",
    "plt.legend()\n",
    "plt.show()"
   ]
  },
  {
   "cell_type": "markdown",
   "id": "statutory-class",
   "metadata": {},
   "source": [
    " # Evaluate our model on full test set\n",
    "\n"
   ]
  },
  {
   "cell_type": "code",
   "execution_count": 91,
   "id": "agreed-camcorder",
   "metadata": {},
   "outputs": [
    {
     "name": "stdout",
     "output_type": "stream",
     "text": [
      "554/554 [==============================] - 2s 3ms/step\n",
      "loss =0.14995488230351653\n",
      "accuracy =0.9783393740653992\n"
     ]
    }
   ],
   "source": [
    " # Evaluate our model on full test set\n",
    "loss_and_acc = model.evaluate(x_test, y_test)\n",
    "print('loss =' +str(loss_and_acc[0]))\n",
    "print('accuracy =' + str(loss_and_acc[1]))"
   ]
  },
  {
   "cell_type": "code",
   "execution_count": 92,
   "id": "documented-sleeping",
   "metadata": {},
   "outputs": [
    {
     "data": {
      "image/png": "[encoded data removed]",
      "text/plain": [
       "<Figure size 432x288 with 2 Axes>"
      ]
     },
     "metadata": {
      "needs_background": "light"
     },
     "output_type": "display_data"
    }
   ],
   "source": [
    "\n",
    "preds = np.round(model.predict(x_test),0)\n",
    "classes = ['fully_covered', 'not_covered', 'partially_covered']\n",
    "categorical_test_labels = pd.DataFrame(y_test).idxmax(axis=1)\n",
    "categorical_preds = pd.DataFrame(preds).idxmax(axis=1)\n",
    "confusion_matrix = confusion_matrix(categorical_test_labels, categorical_preds)\n",
    "plt.imshow(confusion_matrix, interpolation=\"nearest\", cmap=plt.cm.Blues)\n",
    "plt.colorbar()\n",
    "tick_marks = np.arange(len(classes))\n",
    "plt.xticks(tick_marks, classes, rotation=45)\n",
    "plt.yticks(tick_marks, classes)\n",
    "plt.tight_layout()\n"
   ]
  },
  {
   "cell_type": "markdown",
   "id": "fluid-window",
   "metadata": {},
   "source": [
    "# <font color = brown>Model predictions</font>"
   ]
  },
  {
   "cell_type": "markdown",
   "id": "rocky-candy",
   "metadata": {},
   "source": [
    "# lets check the model on fully covered image"
   ]
  },
  {
   "cell_type": "code",
   "execution_count": 97,
   "id": "fourth-alaska",
   "metadata": {},
   "outputs": [],
   "source": [
    "# Evaluating our model\n",
    "# Load an image file to test, resizing it to 64* 64 pix\n",
    "# will load image from fully covered\n",
    "img = image.load_img(\"/Users/sarahalbadri/Desktop/Face Mask Usage/data/fully_covered/aywxgsyn.jpg\", target_size=(64,64))"
   ]
  },
  {
   "cell_type": "code",
   "execution_count": 98,
   "id": "resident-definition",
   "metadata": {},
   "outputs": [],
   "source": [
    "# Convert the image to a numpy array\n",
    "image_to_test = image.img_to_array(img)/255\n",
    "\n"
   ]
  },
  {
   "cell_type": "code",
   "execution_count": 99,
   "id": "lyric-validation",
   "metadata": {},
   "outputs": [],
   "source": [
    "# Add a fourth dimension to the image (since Keras expects a list of images, not a single image)\n",
    "list_of_images = np.expand_dims(image_to_test, axis=0)\n",
    "list_of_images=list_of_images.reshape(-1,64,64,1)"
   ]
  },
  {
   "cell_type": "code",
   "execution_count": 100,
   "id": "imperial-sample",
   "metadata": {},
   "outputs": [],
   "source": [
    "# Make a prediction using the model\n",
    "results = model.predict(list_of_images)"
   ]
  },
  {
   "cell_type": "code",
   "execution_count": 101,
   "id": "adjacent-front",
   "metadata": {},
   "outputs": [],
   "source": [
    "# Since we are only testing one image, we only need to check the first result\n",
    "single_result = results[0]"
   ]
  },
  {
   "cell_type": "code",
   "execution_count": 102,
   "id": "individual-render",
   "metadata": {},
   "outputs": [],
   "source": [
    "most_likely_class_index = int(np.argmax(single_result))\n",
    "class_likelihood = single_result[most_likely_class_index]"
   ]
  },
  {
   "cell_type": "code",
   "execution_count": 103,
   "id": "baking-clause",
   "metadata": {},
   "outputs": [
    {
     "name": "stdout",
     "output_type": "stream",
     "text": [
      "This is image is a fully_covered - Likelihood:0.9999958276748657 \n"
     ]
    }
   ],
   "source": [
    "# Get the name of the most likely class\n",
    "class_labels= ['fully_covered', 'not_covered','partially_covered']\n",
    "class_label = class_labels[most_likely_class_index]\n",
    "\n",
    "# Print the result\n",
    "print(f\"This is image is a {class_label} - Likelihood:{class_likelihood} \")"
   ]
  },
  {
   "cell_type": "markdown",
   "id": "textile-brazilian",
   "metadata": {},
   "source": [
    "# lets check on not covered"
   ]
  },
  {
   "cell_type": "code",
   "execution_count": 104,
   "id": "located-entrance",
   "metadata": {},
   "outputs": [],
   "source": [
    "# lets check model classifiation for not covered class \n",
    "img = image.load_img(\"/Users/sarahalbadri/Desktop/Face Mask Usage/data/not_covered/acteznhe.jpg\", target_size=(64,64))"
   ]
  },
  {
   "cell_type": "code",
   "execution_count": 105,
   "id": "alpine-pacific",
   "metadata": {},
   "outputs": [],
   "source": [
    "# Convert the image to a numpy array\n",
    "image_to_test = image.img_to_array(img)/255\n",
    "\n"
   ]
  },
  {
   "cell_type": "code",
   "execution_count": 106,
   "id": "endangered-outside",
   "metadata": {},
   "outputs": [],
   "source": [
    "# Add a fourth dimension to the image (since Keras expects a list of images, not a single image)\n",
    "list_of_images = np.expand_dims(image_to_test, axis=0)\n",
    "list_of_images=list_of_images.reshape(-1,64,64,1)"
   ]
  },
  {
   "cell_type": "code",
   "execution_count": 107,
   "id": "judicial-spectacular",
   "metadata": {},
   "outputs": [],
   "source": [
    "# Make a prediction using the model\n",
    "results = model.predict(list_of_images)"
   ]
  },
  {
   "cell_type": "code",
   "execution_count": 108,
   "id": "fifteen-genome",
   "metadata": {},
   "outputs": [],
   "source": [
    "# Since we are only testing one image, we only need to check the first result\n",
    "single_result = results[0]"
   ]
  },
  {
   "cell_type": "code",
   "execution_count": 109,
   "id": "floppy-handy",
   "metadata": {},
   "outputs": [],
   "source": [
    "most_likely_class_index = int(np.argmax(single_result))\n",
    "class_likelihood = single_result[most_likely_class_index]"
   ]
  },
  {
   "cell_type": "code",
   "execution_count": 110,
   "id": "affiliated-mercury",
   "metadata": {},
   "outputs": [
    {
     "name": "stdout",
     "output_type": "stream",
     "text": [
      "This is image is a not_covered - Likelihood:0.9999983310699463 \n"
     ]
    }
   ],
   "source": [
    "# Get the name of the most likely class\n",
    "class_labels= ['fully_covered', 'not_covered', 'partially_covered']\n",
    "class_label = class_labels[most_likely_class_index]\n",
    "\n",
    "# Print the result\n",
    "print(f\"This is image is a {class_label} - Likelihood:{class_likelihood} \")"
   ]
  },
  {
   "cell_type": "markdown",
   "id": "renewable-nylon",
   "metadata": {},
   "source": [
    "# lets check on partially covered"
   ]
  },
  {
   "cell_type": "code",
   "execution_count": 111,
   "id": "historical-aerospace",
   "metadata": {},
   "outputs": [],
   "source": [
    "# lets check model classifiation for not covered class \n",
    "img = image.load_img(\"/Users/sarahalbadri/Desktop/Face Mask Usage/data/partially_covered/aunfzfou.jpg\", target_size=(64,64))"
   ]
  },
  {
   "cell_type": "code",
   "execution_count": 112,
   "id": "naval-karma",
   "metadata": {},
   "outputs": [],
   "source": [
    "# Convert the image to a numpy array\n",
    "image_to_test = image.img_to_array(img)/255\n",
    "\n",
    "\n"
   ]
  },
  {
   "cell_type": "code",
   "execution_count": 113,
   "id": "caroline-arabic",
   "metadata": {},
   "outputs": [],
   "source": [
    "# Add a fourth dimension to the image (since Keras expects a list of images, not a single image)\n",
    "list_of_images = np.expand_dims(image_to_test, axis=0)\n",
    "list_of_images=list_of_images.reshape(-1,64,64,1)"
   ]
  },
  {
   "cell_type": "code",
   "execution_count": 114,
   "id": "metallic-better",
   "metadata": {},
   "outputs": [],
   "source": [
    "# Make a prediction using the model\n",
    "results = model.predict(list_of_images)"
   ]
  },
  {
   "cell_type": "code",
   "execution_count": 115,
   "id": "significant-train",
   "metadata": {},
   "outputs": [],
   "source": [
    "# Since we are only testing one image, we only need to check the first result\n",
    "single_result = results[0]"
   ]
  },
  {
   "cell_type": "code",
   "execution_count": 116,
   "id": "academic-sudan",
   "metadata": {},
   "outputs": [],
   "source": [
    "most_likely_class_index = int(np.argmax(single_result))\n",
    "class_likelihood = single_result[most_likely_class_index]"
   ]
  },
  {
   "cell_type": "code",
   "execution_count": 117,
   "id": "instant-biodiversity",
   "metadata": {},
   "outputs": [
    {
     "name": "stdout",
     "output_type": "stream",
     "text": [
      "This is image is a not_covered - Likelihood:0.9932543635368347 \n"
     ]
    }
   ],
   "source": [
    "# Get the name of the most likely class\n",
    "class_labels= ['fully_covered', 'not_covered', 'partially_covered']\n",
    "class_label = class_labels[most_likely_class_index]\n",
    "\n",
    "# Print the result\n",
    "print(f\"This is image is a {class_label} - Likelihood:{class_likelihood} \")"
   ]
  },
  {
   "cell_type": "code",
   "execution_count": null,
   "id": "unique-rolling",
   "metadata": {},
   "outputs": [],
   "source": []
  }
 ],
 "metadata": {
  "kernelspec": {
   "display_name": "Python 3 (ipykernel)",
   "language": "python",
   "name": "python3"
  },
  "language_info": {
   "codemirror_mode": {
    "name": "ipython",
    "version": 3
   },
   "file_extension": ".py",
   "mimetype": "text/x-python",
   "name": "python",
   "nbconvert_exporter": "python",
   "pygments_lexer": "ipython3",
   "version": "3.8.2"
  }
 },
 "nbformat": 4,
 "nbformat_minor": 5
}
